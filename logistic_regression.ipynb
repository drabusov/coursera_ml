{
 "cells": [
  {
   "cell_type": "code",
   "execution_count": 1,
   "metadata": {},
   "outputs": [],
   "source": [
    "import pandas as pd\n",
    "import numpy as np\n",
    "\n",
    "import matplotlib.pyplot as plt\n",
    "\n",
    "from sklearn.metrics import roc_auc_score"
   ]
  },
  {
   "cell_type": "markdown",
   "metadata": {},
   "source": [
    "## load data"
   ]
  },
  {
   "cell_type": "code",
   "execution_count": 2,
   "metadata": {},
   "outputs": [],
   "source": [
    "df = pd.read_csv(\"./input_data/data-logistic.csv\", names = [\"target\", \"feature1\", \"feature2\"])"
   ]
  },
  {
   "cell_type": "code",
   "execution_count": 3,
   "metadata": {},
   "outputs": [
    {
     "data": {
      "text/html": [
       "<div>\n",
       "<style scoped>\n",
       "    .dataframe tbody tr th:only-of-type {\n",
       "        vertical-align: middle;\n",
       "    }\n",
       "\n",
       "    .dataframe tbody tr th {\n",
       "        vertical-align: top;\n",
       "    }\n",
       "\n",
       "    .dataframe thead th {\n",
       "        text-align: right;\n",
       "    }\n",
       "</style>\n",
       "<table border=\"1\" class=\"dataframe\">\n",
       "  <thead>\n",
       "    <tr style=\"text-align: right;\">\n",
       "      <th></th>\n",
       "      <th>target</th>\n",
       "      <th>feature1</th>\n",
       "      <th>feature2</th>\n",
       "    </tr>\n",
       "  </thead>\n",
       "  <tbody>\n",
       "    <tr>\n",
       "      <th>0</th>\n",
       "      <td>-1</td>\n",
       "      <td>-0.663827</td>\n",
       "      <td>-0.138526</td>\n",
       "    </tr>\n",
       "    <tr>\n",
       "      <th>1</th>\n",
       "      <td>1</td>\n",
       "      <td>1.994596</td>\n",
       "      <td>2.468025</td>\n",
       "    </tr>\n",
       "    <tr>\n",
       "      <th>2</th>\n",
       "      <td>-1</td>\n",
       "      <td>-1.247395</td>\n",
       "      <td>0.749425</td>\n",
       "    </tr>\n",
       "    <tr>\n",
       "      <th>3</th>\n",
       "      <td>1</td>\n",
       "      <td>2.309374</td>\n",
       "      <td>1.899836</td>\n",
       "    </tr>\n",
       "    <tr>\n",
       "      <th>4</th>\n",
       "      <td>1</td>\n",
       "      <td>0.849143</td>\n",
       "      <td>2.407750</td>\n",
       "    </tr>\n",
       "  </tbody>\n",
       "</table>\n",
       "</div>"
      ],
      "text/plain": [
       "   target  feature1  feature2\n",
       "0      -1 -0.663827 -0.138526\n",
       "1       1  1.994596  2.468025\n",
       "2      -1 -1.247395  0.749425\n",
       "3       1  2.309374  1.899836\n",
       "4       1  0.849143  2.407750"
      ]
     },
     "execution_count": 3,
     "metadata": {},
     "output_type": "execute_result"
    }
   ],
   "source": [
    "df.head()"
   ]
  },
  {
   "cell_type": "markdown",
   "metadata": {},
   "source": [
    "# easier to work with numpy arrays here"
   ]
  },
  {
   "cell_type": "code",
   "execution_count": 4,
   "metadata": {},
   "outputs": [],
   "source": [
    "y = np.array(df[\"target\"])\n",
    "X = np.array(df[[\"feature1\", \"feature2\"]])\n",
    "\n",
    "C = 10\n",
    "k_step = 0.1"
   ]
  },
  {
   "cell_type": "markdown",
   "metadata": {},
   "source": [
    "## algorithm of log_regression \n",
    "0) initial guess as the array of zeros ->\n",
    "1) train the model using gradient_descent ->\n",
    "3) compute the probabilities"
   ]
  },
  {
   "cell_type": "code",
   "execution_count": 5,
   "metadata": {},
   "outputs": [],
   "source": [
    "# helping func, sigmoid can be used as well\n",
    "def func(i, y, x, w):\n",
    "    return y[i] * x[i] * (1 - 1 / (1 + np.exp(-y[i] * np.sum(x[i] * w))))\n",
    "    \n",
    "def gradient_step(x, y, w, C, k_step):   \n",
    "    ban = C * w\n",
    "    \n",
    "    n = len(y)\n",
    "    out = np.sum([func(i, y, x, w) for i in range(n)], axis=0) / n\n",
    "    \n",
    "    return k_step * (out - ban)\n",
    "\n",
    "def gradient_descent(x, y, w, C, k_step, n_iter = 10**5, epsilon=1e-5, full_output=False):\n",
    "\n",
    "    history = [w.copy()]\n",
    "    step_vec = gradient_step(x, y, w.copy(), C, k_step)\n",
    "    step = np.sqrt(np.sum(step_vec**2))\n",
    "\n",
    "    idx = 0\n",
    "    while step > epsilon and idx < n_iter:\n",
    "        step_vec = gradient_step(x, y, w.copy(), C, k_step)\n",
    "        w += step_vec\n",
    "        history.append(w.copy())\n",
    "    \n",
    "        step = np.sqrt(np.sum(step_vec**2))\n",
    "        idx += 1\n",
    "    return {'coefs':w, 'history':history, 'n_iter':idx} if full_output else w\n",
    "\n",
    "\n",
    "def sigmoid(x, w):\n",
    "    scalar = np.sum(x * w, axis=1)\n",
    "    return 1.0 / (1.0 + np.exp(-scalar))\n",
    "\n",
    "def log_regression(x, y, C=10, k_step=0.1):\n",
    "    \n",
    "    w = np.zeros(2)\n",
    "    w_fin = gradient_descent(X, y, w, C, k_step)\n",
    "    \n",
    "    predictions = sigmoid(x, w_fin)\n",
    "    return predictions"
   ]
  },
  {
   "cell_type": "markdown",
   "metadata": {},
   "source": [
    "## first without regularization then with it"
   ]
  },
  {
   "cell_type": "code",
   "execution_count": 6,
   "metadata": {},
   "outputs": [
    {
     "data": {
      "text/plain": [
       "0.9268571428571428"
      ]
     },
     "execution_count": 6,
     "metadata": {},
     "output_type": "execute_result"
    }
   ],
   "source": [
    "p0 = log_regression(X,y, C=0)\n",
    "score0 = roc_auc_score(y, p0)\n",
    "score0"
   ]
  },
  {
   "cell_type": "code",
   "execution_count": 7,
   "metadata": {},
   "outputs": [
    {
     "data": {
      "text/plain": [
       "0.9362857142857142"
      ]
     },
     "execution_count": 7,
     "metadata": {},
     "output_type": "execute_result"
    }
   ],
   "source": [
    "p1 = log_regression(X,y, C=10)\n",
    "score1 = roc_auc_score(y, p1)\n",
    "score1"
   ]
  },
  {
   "cell_type": "code",
   "execution_count": 8,
   "metadata": {},
   "outputs": [],
   "source": [
    "w = open(\"./week3/log_regression.dat\", \"w\")\n",
    "w.write(f\"{np.round(score0, 3)} {np.round(score1, 3)}\")\n",
    "w.close()"
   ]
  },
  {
   "cell_type": "markdown",
   "metadata": {},
   "source": [
    "## step size vs the number of iterations\n",
    "k_step should scale as 1/n_iter"
   ]
  },
  {
   "cell_type": "code",
   "execution_count": 9,
   "metadata": {},
   "outputs": [
    {
     "data": {
      "text/plain": [
       "8"
      ]
     },
     "execution_count": 9,
     "metadata": {},
     "output_type": "execute_result"
    }
   ],
   "source": [
    "w = np.zeros(2)\n",
    "k_step = 0.1\n",
    "d = gradient_descent(X, y, w, C, k_step, full_output=True)\n",
    "\n",
    "w = d[\"coefs\"]\n",
    "history = d[\"history\"]\n",
    "d[\"n_iter\"]"
   ]
  },
  {
   "cell_type": "code",
   "execution_count": 10,
   "metadata": {},
   "outputs": [
    {
     "data": {
      "text/plain": [
       "[<matplotlib.lines.Line2D at 0x7f19da862438>]"
      ]
     },
     "execution_count": 10,
     "metadata": {},
     "output_type": "execute_result"
    },
    {
     "data": {
      "image/png": "[encoded data removed]",
      "text/plain": [
       "<Figure size 432x288 with 1 Axes>"
      ]
     },
     "metadata": {
      "needs_background": "light"
     },
     "output_type": "display_data"
    }
   ],
   "source": [
    "plt.plot(np.array(history)[:, 0])\n",
    "plt.plot(np.array(history)[:, 1])"
   ]
  },
  {
   "cell_type": "code",
   "execution_count": 11,
   "metadata": {},
   "outputs": [
    {
     "data": {
      "text/plain": [
       "47"
      ]
     },
     "execution_count": 11,
     "metadata": {},
     "output_type": "execute_result"
    }
   ],
   "source": [
    "w = np.zeros(2)\n",
    "k_step = 0.01\n",
    "d = gradient_descent(X, y, w, C, k_step, full_output=True)\n",
    "\n",
    "w = d[\"coefs\"]\n",
    "history = d[\"history\"]\n",
    "d[\"n_iter\"]"
   ]
  },
  {
   "cell_type": "code",
   "execution_count": 12,
   "metadata": {},
   "outputs": [
    {
     "data": {
      "text/plain": [
       "[<matplotlib.lines.Line2D at 0x7f19da788438>]"
      ]
     },
     "execution_count": 12,
     "metadata": {},
     "output_type": "execute_result"
    },
    {
     "data": {
      "image/png": "[encoded data removed]",
      "text/plain": [
       "<Figure size 432x288 with 1 Axes>"
      ]
     },
     "metadata": {
      "needs_background": "light"
     },
     "output_type": "display_data"
    }
   ],
   "source": [
    "plt.plot(np.array(history)[:, 0])\n",
    "plt.plot(np.array(history)[:, 1])"
   ]
  },
  {
   "cell_type": "code",
   "execution_count": 13,
   "metadata": {},
   "outputs": [
    {
     "data": {
      "text/plain": [
       "305"
      ]
     },
     "execution_count": 13,
     "metadata": {},
     "output_type": "execute_result"
    }
   ],
   "source": [
    "w = np.zeros(2)\n",
    "k_step = 0.001\n",
    "d = gradient_descent(X, y, w, C, k_step, full_output=True)\n",
    "\n",
    "w = d[\"coefs\"]\n",
    "history = d[\"history\"]\n",
    "d[\"n_iter\"]"
   ]
  },
  {
   "cell_type": "code",
   "execution_count": 14,
   "metadata": {},
   "outputs": [
    {
     "data": {
      "text/plain": [
       "[<matplotlib.lines.Line2D at 0x7f19da76d4a8>]"
      ]
     },
     "execution_count": 14,
     "metadata": {},
     "output_type": "execute_result"
    },
    {
     "data": {
      "image/png": "[encoded data removed]",
      "text/plain": [
       "<Figure size 432x288 with 1 Axes>"
      ]
     },
     "metadata": {
      "needs_background": "light"
     },
     "output_type": "display_data"
    }
   ],
   "source": [
    "plt.plot(np.array(history)[:, 0])\n",
    "plt.plot(np.array(history)[:, 1])"
   ]
  },
  {
   "cell_type": "markdown",
   "metadata": {},
   "source": [
    "## though the learning curves become less noisy the algorithm takes more steps"
   ]
  },
  {
   "cell_type": "code",
   "execution_count": 16,
   "metadata": {},
   "outputs": [
    {
     "data": {
      "text/plain": [
       "682"
      ]
     },
     "execution_count": 16,
     "metadata": {},
     "output_type": "execute_result"
    }
   ],
   "source": [
    "w = np.array([2.,2.])\n",
    "k_step = 0.001\n",
    "d = gradient_descent(X, y, w, C, k_step, full_output=True)\n",
    "\n",
    "w = d[\"coefs\"]\n",
    "history = d[\"history\"]\n",
    "d[\"n_iter\"]"
   ]
  },
  {
   "cell_type": "code",
   "execution_count": 17,
   "metadata": {},
   "outputs": [
    {
     "data": {
      "text/plain": [
       "[<matplotlib.lines.Line2D at 0x7f19da66d400>]"
      ]
     },
     "execution_count": 17,
     "metadata": {},
     "output_type": "execute_result"
    },
    {
     "data": {
      "image/png": "[encoded data removed]",
      "text/plain": [
       "<Figure size 432x288 with 1 Axes>"
      ]
     },
     "metadata": {
      "needs_background": "light"
     },
     "output_type": "display_data"
    }
   ],
   "source": [
    "plt.plot(np.array(history)[:, 0])\n",
    "plt.plot(np.array(history)[:, 1])"
   ]
  },
  {
   "cell_type": "markdown",
   "metadata": {},
   "source": [
    "## starting point (2, 2) -> the same local min"
   ]
  },
  {
   "cell_type": "code",
   "execution_count": null,
   "metadata": {},
   "outputs": [],
   "source": []
  }
 ],
 "metadata": {
  "kernelspec": {
   "display_name": "Python 3",
   "language": "python",
   "name": "python3"
  },
  "language_info": {
   "codemirror_mode": {
    "name": "ipython",
    "version": 3
   },
   "file_extension": ".py",
   "mimetype": "text/x-python",
   "name": "python",
   "nbconvert_exporter": "python",
   "pygments_lexer": "ipython3",
   "version": "3.7.3"
  }
 },
 "nbformat": 4,
 "nbformat_minor": 2
}
