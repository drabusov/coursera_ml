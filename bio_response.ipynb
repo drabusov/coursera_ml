{
 "cells": [
  {
   "cell_type": "code",
   "execution_count": 45,
   "metadata": {},
   "outputs": [],
   "source": [
    "import numpy as np\n",
    "import pandas as pd\n",
    "import matplotlib.pyplot as plt\n",
    "\n",
    "from sklearn.ensemble import GradientBoostingClassifier, RandomForestClassifier\n",
    "from sklearn.model_selection import train_test_split\n",
    "from sklearn.metrics import log_loss"
   ]
  },
  {
   "cell_type": "code",
   "execution_count": 2,
   "metadata": {},
   "outputs": [
    {
     "data": {
      "text/html": [
       "<div>\n",
       "<style scoped>\n",
       "    .dataframe tbody tr th:only-of-type {\n",
       "        vertical-align: middle;\n",
       "    }\n",
       "\n",
       "    .dataframe tbody tr th {\n",
       "        vertical-align: top;\n",
       "    }\n",
       "\n",
       "    .dataframe thead th {\n",
       "        text-align: right;\n",
       "    }\n",
       "</style>\n",
       "<table border=\"1\" class=\"dataframe\">\n",
       "  <thead>\n",
       "    <tr style=\"text-align: right;\">\n",
       "      <th></th>\n",
       "      <th>Activity</th>\n",
       "      <th>D1</th>\n",
       "      <th>D2</th>\n",
       "      <th>D3</th>\n",
       "      <th>D4</th>\n",
       "      <th>D5</th>\n",
       "      <th>D6</th>\n",
       "      <th>D7</th>\n",
       "      <th>D8</th>\n",
       "      <th>D9</th>\n",
       "      <th>...</th>\n",
       "      <th>D1767</th>\n",
       "      <th>D1768</th>\n",
       "      <th>D1769</th>\n",
       "      <th>D1770</th>\n",
       "      <th>D1771</th>\n",
       "      <th>D1772</th>\n",
       "      <th>D1773</th>\n",
       "      <th>D1774</th>\n",
       "      <th>D1775</th>\n",
       "      <th>D1776</th>\n",
       "    </tr>\n",
       "  </thead>\n",
       "  <tbody>\n",
       "    <tr>\n",
       "      <th>0</th>\n",
       "      <td>1</td>\n",
       "      <td>0.000000</td>\n",
       "      <td>0.497009</td>\n",
       "      <td>0.10</td>\n",
       "      <td>0.0</td>\n",
       "      <td>0.132956</td>\n",
       "      <td>0.678031</td>\n",
       "      <td>0.273166</td>\n",
       "      <td>0.585445</td>\n",
       "      <td>0.743663</td>\n",
       "      <td>...</td>\n",
       "      <td>0</td>\n",
       "      <td>0</td>\n",
       "      <td>0</td>\n",
       "      <td>0</td>\n",
       "      <td>0</td>\n",
       "      <td>0</td>\n",
       "      <td>0</td>\n",
       "      <td>0</td>\n",
       "      <td>0</td>\n",
       "      <td>0</td>\n",
       "    </tr>\n",
       "    <tr>\n",
       "      <th>1</th>\n",
       "      <td>1</td>\n",
       "      <td>0.366667</td>\n",
       "      <td>0.606291</td>\n",
       "      <td>0.05</td>\n",
       "      <td>0.0</td>\n",
       "      <td>0.111209</td>\n",
       "      <td>0.803455</td>\n",
       "      <td>0.106105</td>\n",
       "      <td>0.411754</td>\n",
       "      <td>0.836582</td>\n",
       "      <td>...</td>\n",
       "      <td>1</td>\n",
       "      <td>1</td>\n",
       "      <td>1</td>\n",
       "      <td>1</td>\n",
       "      <td>0</td>\n",
       "      <td>1</td>\n",
       "      <td>0</td>\n",
       "      <td>0</td>\n",
       "      <td>1</td>\n",
       "      <td>0</td>\n",
       "    </tr>\n",
       "    <tr>\n",
       "      <th>2</th>\n",
       "      <td>1</td>\n",
       "      <td>0.033300</td>\n",
       "      <td>0.480124</td>\n",
       "      <td>0.00</td>\n",
       "      <td>0.0</td>\n",
       "      <td>0.209791</td>\n",
       "      <td>0.610350</td>\n",
       "      <td>0.356453</td>\n",
       "      <td>0.517720</td>\n",
       "      <td>0.679051</td>\n",
       "      <td>...</td>\n",
       "      <td>0</td>\n",
       "      <td>0</td>\n",
       "      <td>0</td>\n",
       "      <td>0</td>\n",
       "      <td>0</td>\n",
       "      <td>0</td>\n",
       "      <td>0</td>\n",
       "      <td>0</td>\n",
       "      <td>0</td>\n",
       "      <td>0</td>\n",
       "    </tr>\n",
       "    <tr>\n",
       "      <th>3</th>\n",
       "      <td>1</td>\n",
       "      <td>0.000000</td>\n",
       "      <td>0.538825</td>\n",
       "      <td>0.00</td>\n",
       "      <td>0.5</td>\n",
       "      <td>0.196344</td>\n",
       "      <td>0.724230</td>\n",
       "      <td>0.235606</td>\n",
       "      <td>0.288764</td>\n",
       "      <td>0.805110</td>\n",
       "      <td>...</td>\n",
       "      <td>0</td>\n",
       "      <td>0</td>\n",
       "      <td>0</td>\n",
       "      <td>0</td>\n",
       "      <td>0</td>\n",
       "      <td>0</td>\n",
       "      <td>0</td>\n",
       "      <td>0</td>\n",
       "      <td>0</td>\n",
       "      <td>0</td>\n",
       "    </tr>\n",
       "    <tr>\n",
       "      <th>4</th>\n",
       "      <td>0</td>\n",
       "      <td>0.100000</td>\n",
       "      <td>0.517794</td>\n",
       "      <td>0.00</td>\n",
       "      <td>0.0</td>\n",
       "      <td>0.494734</td>\n",
       "      <td>0.781422</td>\n",
       "      <td>0.154361</td>\n",
       "      <td>0.303809</td>\n",
       "      <td>0.812646</td>\n",
       "      <td>...</td>\n",
       "      <td>0</td>\n",
       "      <td>0</td>\n",
       "      <td>0</td>\n",
       "      <td>0</td>\n",
       "      <td>0</td>\n",
       "      <td>0</td>\n",
       "      <td>0</td>\n",
       "      <td>0</td>\n",
       "      <td>0</td>\n",
       "      <td>0</td>\n",
       "    </tr>\n",
       "  </tbody>\n",
       "</table>\n",
       "<p>5 rows × 1777 columns</p>\n",
       "</div>"
      ],
      "text/plain": [
       "   Activity        D1        D2    D3   D4        D5        D6        D7  \\\n",
       "0         1  0.000000  0.497009  0.10  0.0  0.132956  0.678031  0.273166   \n",
       "1         1  0.366667  0.606291  0.05  0.0  0.111209  0.803455  0.106105   \n",
       "2         1  0.033300  0.480124  0.00  0.0  0.209791  0.610350  0.356453   \n",
       "3         1  0.000000  0.538825  0.00  0.5  0.196344  0.724230  0.235606   \n",
       "4         0  0.100000  0.517794  0.00  0.0  0.494734  0.781422  0.154361   \n",
       "\n",
       "         D8        D9  ...  D1767  D1768  D1769  D1770  D1771  D1772  D1773  \\\n",
       "0  0.585445  0.743663  ...      0      0      0      0      0      0      0   \n",
       "1  0.411754  0.836582  ...      1      1      1      1      0      1      0   \n",
       "2  0.517720  0.679051  ...      0      0      0      0      0      0      0   \n",
       "3  0.288764  0.805110  ...      0      0      0      0      0      0      0   \n",
       "4  0.303809  0.812646  ...      0      0      0      0      0      0      0   \n",
       "\n",
       "   D1774  D1775  D1776  \n",
       "0      0      0      0  \n",
       "1      0      1      0  \n",
       "2      0      0      0  \n",
       "3      0      0      0  \n",
       "4      0      0      0  \n",
       "\n",
       "[5 rows x 1777 columns]"
      ]
     },
     "execution_count": 2,
     "metadata": {},
     "output_type": "execute_result"
    }
   ],
   "source": [
    "df = pd.read_csv(\"./input_data/gbm-data.csv\")\n",
    "df.head()"
   ]
  },
  {
   "cell_type": "code",
   "execution_count": 3,
   "metadata": {},
   "outputs": [],
   "source": [
    "X = df.copy()\n",
    "y = X.pop(\"Activity\")"
   ]
  },
  {
   "cell_type": "code",
   "execution_count": 4,
   "metadata": {},
   "outputs": [],
   "source": [
    "X_train, X_test, y_train, y_test = train_test_split(X, y, test_size = 0.8, random_state=241)"
   ]
  },
  {
   "cell_type": "code",
   "execution_count": 8,
   "metadata": {},
   "outputs": [
    {
     "name": "stdout",
     "output_type": "stream",
     "text": [
      "      Iter       Train Loss   Remaining Time \n",
      "         1           1.3199           11.23s\n",
      "         2           1.2645           10.94s\n",
      "         3           1.2170           10.78s\n",
      "         4           1.1775           10.70s\n",
      "         5           1.1404           10.73s\n",
      "         6           1.1106           10.70s\n",
      "         7           1.0844           10.52s\n",
      "         8           1.0617           10.37s\n",
      "         9           1.0411           10.26s\n",
      "        10           1.0223           10.19s\n",
      "        20           0.8864            8.87s\n",
      "        30           0.7844            7.74s\n",
      "        40           0.7176            6.96s\n",
      "        50           0.6590            6.74s\n",
      "        60           0.6120            6.40s\n",
      "        70           0.5599            6.20s\n",
      "        80           0.5242            5.82s\n",
      "        90           0.4829            5.33s\n",
      "       100           0.4473            4.86s\n",
      "       200           0.2379            1.47s\n"
     ]
    },
    {
     "data": {
      "text/plain": [
       "GradientBoostingClassifier(criterion='friedman_mse', init=None,\n",
       "              learning_rate=0.1, loss='deviance', max_depth=3,\n",
       "              max_features=None, max_leaf_nodes=None,\n",
       "              min_impurity_decrease=0.0, min_impurity_split=None,\n",
       "              min_samples_leaf=1, min_samples_split=2,\n",
       "              min_weight_fraction_leaf=0.0, n_estimators=250,\n",
       "              n_iter_no_change=None, presort='auto', random_state=241,\n",
       "              subsample=1.0, tol=0.0001, validation_fraction=0.1,\n",
       "              verbose=True, warm_start=False)"
      ]
     },
     "execution_count": 8,
     "metadata": {},
     "output_type": "execute_result"
    }
   ],
   "source": [
    "model = GradientBoostingClassifier(\n",
    "        n_estimators=250, verbose=True, random_state=241)\n",
    "\n",
    "model.fit(X_train, y_train)\n"
   ]
  },
  {
   "cell_type": "code",
   "execution_count": 20,
   "metadata": {},
   "outputs": [],
   "source": [
    "def sigmoid(y_pred):\n",
    "    return 1 / (1 + np.exp(-y_pred))\n",
    "\n",
    "def find_log_loss(model, X, y):\n",
    "    out = []\n",
    "    for pred in model.staged_decision_function(X):\n",
    "        y_sigm = [sigmoid(y_pred[0]) for y_pred in pred.tolist()]\n",
    "        out.append(log_loss(y, y_sigm))\n",
    "    return out\n"
   ]
  },
  {
   "cell_type": "code",
   "execution_count": 36,
   "metadata": {},
   "outputs": [
    {
     "name": "stdout",
     "output_type": "stream",
     "text": [
      "      Iter       Train Loss   Remaining Time \n",
      "         1           1.0190           11.39s\n",
      "         2           0.9192           10.81s\n",
      "         3           0.8272           10.02s\n",
      "         4           0.7834            8.81s\n",
      "         5           0.7109            8.50s\n",
      "         6           0.6368            8.88s\n",
      "         7           0.5797            8.82s\n",
      "         8           0.5610            8.19s\n",
      "         9           0.5185            7.97s\n",
      "        10           0.4984            7.57s\n",
      "        20           0.1999            7.51s\n",
      "        30           0.1313            6.81s\n",
      "        40           0.0790            6.73s\n",
      "        50           0.0511            6.36s\n",
      "        60           0.0352            6.11s\n",
      "        70           0.0245            5.70s\n",
      "        80           0.0162            5.36s\n",
      "        90           0.0114            5.01s\n",
      "       100           0.0077            4.71s\n",
      "       200           0.0004            1.38s\n",
      "      Iter       Train Loss   Remaining Time \n",
      "         1           1.1255           13.35s\n",
      "         2           1.0035           13.40s\n",
      "         3           0.9386           13.31s\n",
      "         4           0.8844           12.05s\n",
      "         5           0.8381           11.93s\n",
      "         6           0.7995           11.29s\n",
      "         7           0.7559           10.93s\n",
      "         8           0.7205           10.60s\n",
      "         9           0.6958           10.14s\n",
      "        10           0.6725            9.83s\n",
      "        20           0.4672            8.18s\n",
      "        30           0.3179            7.74s\n",
      "        40           0.2274            7.01s\n",
      "        50           0.1774            6.35s\n",
      "        60           0.1394            5.88s\n",
      "        70           0.1050            5.55s\n",
      "        80           0.0805            5.30s\n",
      "        90           0.0650            4.96s\n",
      "       100           0.0511            4.69s\n",
      "       200           0.0058            1.57s\n",
      "      Iter       Train Loss   Remaining Time \n",
      "         1           1.2095           12.80s\n",
      "         2           1.1006           12.80s\n",
      "         3           1.0240           12.74s\n",
      "         4           0.9729           12.74s\n",
      "         5           0.9387           11.54s\n",
      "         6           0.8948           11.69s\n",
      "         7           0.8621           11.22s\n",
      "         8           0.8360           10.65s\n",
      "         9           0.8171           10.17s\n",
      "        10           0.7883            9.97s\n",
      "        20           0.6164            8.32s\n",
      "        30           0.4933            7.59s\n",
      "        40           0.4248            6.87s\n",
      "        50           0.3345            6.44s\n",
      "        60           0.2760            5.92s\n",
      "        70           0.2263            5.47s\n",
      "        80           0.1971            4.97s\n",
      "        90           0.1693            4.57s\n",
      "       100           0.1388            4.30s\n",
      "       200           0.0294            1.40s\n",
      "      Iter       Train Loss   Remaining Time \n",
      "         1           1.2613           10.46s\n",
      "         2           1.1715           10.56s\n",
      "         3           1.1009           10.53s\n",
      "         4           1.0529           10.48s\n",
      "         5           1.0130           10.47s\n",
      "         6           0.9740           10.42s\n",
      "         7           0.9475            9.73s\n",
      "         8           0.9197            9.78s\n",
      "         9           0.8979            9.57s\n",
      "        10           0.8730            9.87s\n",
      "        20           0.7207            7.98s\n",
      "        30           0.6055            7.48s\n",
      "        40           0.5244            6.84s\n",
      "        50           0.4501            6.61s\n",
      "        60           0.3908            6.39s\n",
      "        70           0.3372            6.08s\n",
      "        80           0.3009            5.80s\n",
      "        90           0.2603            5.49s\n",
      "       100           0.2327            5.23s\n",
      "       200           0.0835            1.58s\n",
      "      Iter       Train Loss   Remaining Time \n",
      "         1           1.3199           10.48s\n",
      "         2           1.2645           10.40s\n",
      "         3           1.2170           11.47s\n",
      "         4           1.1775           11.94s\n",
      "         5           1.1404           12.13s\n",
      "         6           1.1106           12.29s\n",
      "         7           1.0844           12.31s\n",
      "         8           1.0617           12.28s\n",
      "         9           1.0411           12.24s\n",
      "        10           1.0223           12.20s\n",
      "        20           0.8864           10.87s\n",
      "        30           0.7844            9.44s\n",
      "        40           0.7176            8.35s\n",
      "        50           0.6590            7.56s\n",
      "        60           0.6120            6.92s\n",
      "        70           0.5599            6.49s\n",
      "        80           0.5242            5.99s\n",
      "        90           0.4829            5.60s\n",
      "       100           0.4473            5.20s\n",
      "       200           0.2379            1.64s\n"
     ]
    }
   ],
   "source": [
    "learninig_rates = [1, 0.5, 0.3, 0.2, 0.1]\n",
    "arr_test, arr_train = [], []\n",
    "\n",
    "for learning_rate in learninig_rates:\n",
    "    \n",
    "    model = GradientBoostingClassifier(\n",
    "        n_estimators=250, verbose=True, random_state=241, learning_rate=learning_rate)\n",
    "    model.fit(X_train, y_train)\n",
    "    \n",
    "    test_score = find_log_loss(model, X_test, y_test)  \n",
    "    train_score = find_log_loss(model, X_train, y_train)\n",
    "    \n",
    "    arr_test.append(test_score)    \n",
    "    arr_train.append(train_score)"
   ]
  },
  {
   "cell_type": "code",
   "execution_count": 37,
   "metadata": {},
   "outputs": [
    {
     "data": {
      "text/plain": [
       "<matplotlib.legend.Legend at 0x7f2a001415f8>"
      ]
     },
     "execution_count": 37,
     "metadata": {},
     "output_type": "execute_result"
    },
    {
     "data": {
      "image/png": "[encoded data removed]",
      "text/plain": [
       "<Figure size 432x288 with 1 Axes>"
      ]
     },
     "metadata": {
      "needs_background": "light"
     },
     "output_type": "display_data"
    }
   ],
   "source": [
    "plt.figure()\n",
    "[plt.plot(test_loss, c='r', linewidth=2) for test_loss in arr_test]\n",
    "[plt.plot(train_loss, c='g', linewidth=2) for train_loss in arr_train]\n",
    "plt.legend(['test', 'train'])"
   ]
  },
  {
   "cell_type": "code",
   "execution_count": 43,
   "metadata": {},
   "outputs": [],
   "source": [
    "w = open(\"./week5/crossval.dat\", \"w\")\n",
    "w.write(\"overfitting\")\n",
    "w.close()"
   ]
  },
  {
   "cell_type": "code",
   "execution_count": 38,
   "metadata": {},
   "outputs": [
    {
     "data": {
      "image/png": "[encoded data removed]",
      "text/plain": [
       "<Figure size 432x288 with 1 Axes>"
      ]
     },
     "metadata": {
      "needs_background": "light"
     },
     "output_type": "display_data"
    }
   ],
   "source": [
    "[plt.plot(test_loss, linewidth=2, label=f\"{learninig_rates[i]}\") for i, test_loss in enumerate(arr_test)]\n",
    "\n",
    "plt.xlim(0,90)\n",
    "plt.ylim(0.5, 0.6)\n",
    "\n",
    "plt.legend()\n",
    "plt.show()"
   ]
  },
  {
   "cell_type": "code",
   "execution_count": 40,
   "metadata": {},
   "outputs": [
    {
     "data": {
      "text/plain": [
       "[0.5822942594278476,\n",
       " 0.5582025523164261,\n",
       " 0.5423141110024554,\n",
       " 0.5314507963190638,\n",
       " 0.5269201872275844]"
      ]
     },
     "execution_count": 40,
     "metadata": {},
     "output_type": "execute_result"
    }
   ],
   "source": [
    "[np.min(test_loss) for test_loss in arr_test]"
   ]
  },
  {
   "cell_type": "code",
   "execution_count": 41,
   "metadata": {},
   "outputs": [],
   "source": [
    "# overall\n",
    "min_val = np.min(arr_test)\n",
    "min_iter = np.argmin(arr_test[-1])"
   ]
  },
  {
   "cell_type": "code",
   "execution_count": 50,
   "metadata": {},
   "outputs": [],
   "source": [
    "# for learning_rate = 0.2\n",
    "min_val = np.min(arr_test[-2])\n",
    "min_iter = np.argmin(arr_test[-2])\n",
    "\n",
    "w = open(\"./week5/log_loss_boosting.dat\", \"w\")\n",
    "w.write(f\"{np.round(min_val, 2)} {min_iter}\")\n",
    "w.close()"
   ]
  },
  {
   "cell_type": "code",
   "execution_count": 47,
   "metadata": {},
   "outputs": [
    {
     "data": {
      "text/plain": [
       "RandomForestClassifier(bootstrap=True, class_weight=None, criterion='gini',\n",
       "            max_depth=None, max_features='auto', max_leaf_nodes=None,\n",
       "            min_impurity_decrease=0.0, min_impurity_split=None,\n",
       "            min_samples_leaf=1, min_samples_split=2,\n",
       "            min_weight_fraction_leaf=0.0, n_estimators=36, n_jobs=None,\n",
       "            oob_score=False, random_state=241, verbose=0, warm_start=False)"
      ]
     },
     "execution_count": 47,
     "metadata": {},
     "output_type": "execute_result"
    }
   ],
   "source": [
    "model = RandomForestClassifier(n_estimators=min_iter, random_state=241)\n",
    "model.fit(X_train, y_train)"
   ]
  },
  {
   "cell_type": "code",
   "execution_count": 51,
   "metadata": {},
   "outputs": [],
   "source": [
    "out = log_loss(y_test, model.predict_proba(X_test))"
   ]
  },
  {
   "cell_type": "code",
   "execution_count": 52,
   "metadata": {},
   "outputs": [],
   "source": [
    "w = open(\"./week5/log_loss_rf.dat\", \"w\")\n",
    "w.write(f\"{np.round(out, 2)}\")\n",
    "w.close()"
   ]
  },
  {
   "cell_type": "code",
   "execution_count": null,
   "metadata": {},
   "outputs": [],
   "source": []
  }
 ],
 "metadata": {
  "kernelspec": {
   "display_name": "Python 3",
   "language": "python",
   "name": "python3"
  },
  "language_info": {
   "codemirror_mode": {
    "name": "ipython",
    "version": 3
   },
   "file_extension": ".py",
   "mimetype": "text/x-python",
   "name": "python",
   "nbconvert_exporter": "python",
   "pygments_lexer": "ipython3",
   "version": "3.7.3"
  }
 },
 "nbformat": 4,
 "nbformat_minor": 2
}
